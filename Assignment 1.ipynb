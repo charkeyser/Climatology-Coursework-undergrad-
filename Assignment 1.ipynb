{
 "cells": [
  {
   "cell_type": "code",
   "execution_count": null,
   "id": "020d3786-eb0f-403a-9c81-0e1297dc0d20",
   "metadata": {},
   "outputs": [],
   "source": [
    "# Scenario 1: If the atmosphere warmed up by 5 deg. C, would the atmospheric pressure at 8 km above sea level increase or decrease, and by approximately how much?\n",
    "# Scenario 2: Let's imagine we are back to the Little Ice Age, and the Earth was about 2 deg. C colder, by approximately how much does the atmospheric pressure decrease or increase at 9 km height?\n",
    "\n",
    "import numpy as np\n",
    "import matplotlib.pyplot as plt"
   ]
  },
  {
   "cell_type": "code",
   "execution_count": null,
   "id": "be10d819-7af8-4f80-923d-f4b5a737b488",
   "metadata": {},
   "outputs": [],
   "source": [
    "T1 = np.array([15, 20]) #C (tempreatures for scenario 1)\n",
    "T2 = np.array([15, 13]) #C (teps for scenario 2)\n",
    "Z1 = 8000 #m (height)\n",
    "Z2 = 9000 #m\n",
    "Ps = 101325 #Pa (standard pressure at 0 ft ASL)\n",
    "\n",
    "def scale_height(T):\n",
    "    R = 287 #J/kg*K (universal gas constant)\n",
    "    g = 9.81 #m/s**2\n",
    "    H = R*(T+273.15)/g\n",
    "    return H\n",
    "\n",
    "def pressure(T, Z, H, Ps, opt_unit):\n",
    "    P = Ps*np.exp(-Z/H)\n",
    "    if opt_unit == True:\n",
    "        return print(f\"{P} Paschals\")\n",
    "    else:\n",
    "        return P"
   ]
  },
  {
   "cell_type": "code",
   "execution_count": null,
   "id": "967c9418-b063-4cae-9981-51f0c6edfc1e",
   "metadata": {},
   "outputs": [],
   "source": [
    "#loops \n",
    "P_S1 = np.zeros(2)\n",
    "for i in range(len(T1)):\n",
    "    Hi = scale_height(T1[i])\n",
    "    P_S1[i] = pressure(T1[i], Z1, Hi, Ps, False)\n",
    "\n",
    "P_S2 = np.zeros(2)\n",
    "for i in range(len(T2)):\n",
    "    Hi = scale_height(T2[i])\n",
    "    P_S2[i] = pressure(T2[i], Z2, Hi, Ps, False)\n",
    "\n",
    "print (f\"Scenario 1 pressures:{P_S1}\")\n",
    "print(f\"Scenario 2 pressures:{P_S2}\")"
   ]
  },
  {
   "cell_type": "code",
   "execution_count": null,
   "id": "45f68ac2-85b5-4656-aeee-c56a1bfdf5a1",
   "metadata": {},
   "outputs": [],
   "source": [
    "# difference\n",
    "\n",
    "S1_deltaP = 39866.48703291-39226.40365271\n",
    "S2_deltaP = 34579.64914065-34838.64281345\n",
    "\n",
    "print(f\"Scenario 1 pressure change = {S1_deltaP} Paschals\")\n",
    "print(f\"Scenario 2 pressure change = {S2_deltaP} Paschals\")"
   ]
  },
  {
   "cell_type": "code",
   "execution_count": null,
   "id": "6e38c64d-c1c5-4708-b970-dca88948e269",
   "metadata": {},
   "outputs": [],
   "source": []
  }
 ],
 "metadata": {
  "kernelspec": {
   "display_name": "Python 3 (ipykernel)",
   "language": "python",
   "name": "python3"
  },
  "language_info": {
   "codemirror_mode": {
    "name": "ipython",
    "version": 3
   },
   "file_extension": ".py",
   "mimetype": "text/x-python",
   "name": "python",
   "nbconvert_exporter": "python",
   "pygments_lexer": "ipython3",
   "version": "3.12.4"
  }
 },
 "nbformat": 4,
 "nbformat_minor": 5
}
