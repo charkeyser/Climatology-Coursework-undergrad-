{
 "cells": [
  {
   "cell_type": "code",
   "execution_count": null,
   "id": "bef3cca3-471e-4f6f-93df-5d55ba3a0569",
   "metadata": {},
   "outputs": [],
   "source": [
    "import numpy as np\n",
    "import math\n",
    "import matplotlib.pyplot as plt\n",
    "import sys, pathlib, urllib.request\n",
    "url = \"https://raw.githubusercontent.com/charkeyser/Climatology-Coursework-undergrad-/main/src/atmophys.py\"\n",
    "urllib.request.urlretrieve(url, \"atmophys.py\")\n",
    "sys.path.append(str(pathlib.Path.cwd()))\n",
    "from atmophys import T, sigmat4, asr, olr, teq, tstep_forward"
   ]
  },
  {
   "cell_type": "code",
   "execution_count": null,
   "id": "5809aa3c-2670-4b3f-9b49-7f470c967370",
   "metadata": {},
   "outputs": [],
   "source": [
    "C = 4.0*10**8\n",
    "T1 = 290 #K\n",
    "alpha = 0.45 #albedo\n",
    "tau = 0.61 #transmissivity\n",
    "Q = 400 #W/m^2 incoming solar radiation\n",
    "\n",
    "#testing to make sure imported functions work\n",
    "test_asr = (1 - 0.45) * 400\n",
    "print(test_asr)\n",
    "test = asr(Q, alpha)\n",
    "print(test)"
   ]
  },
  {
   "cell_type": "code",
   "execution_count": null,
   "id": "2b0005c7-c210-4421-bfa4-76c61d49b984",
   "metadata": {},
   "outputs": [],
   "source": [
    "# equilibrium temp, 50 time steps\n",
    "\n",
    "numsteps = 50\n",
    "Tsteps = np.zeros(numsteps+1)\n",
    "years = np.zeros(numsteps+1)\n",
    "Tsteps[0] = T1\n",
    "\n",
    "Result1 = []\n",
    "for i in range(numsteps):\n",
    "    years[i+1] = i+1\n",
    "    Tsteps[i+1] = tstep_forward(Tsteps[i], C, Q, alpha, tau)\n",
    "    Result1.append(Tsteps[i+1])\n",
    "\n",
    "Result2 = []\n",
    "for i in range(numsteps):\n",
    "    years[i+1] = i+1\n",
    "    Tsteps[i+1] = tstep_forward(Tsteps[i], C, Q, 0.50, tau)\n",
    "    Result2.append(Tsteps[i+1])\n",
    "\n",
    "print(f\"results for tau of 0.45 = {Result1}\")\n",
    "\n",
    "print(f\"results for tau of 0.50 = {Result2}\")\n",
    "\n"
   ]
  },
  {
   "cell_type": "code",
   "execution_count": null,
   "id": "006a4842-4464-419e-8351-fb85a4c5452b",
   "metadata": {},
   "outputs": [],
   "source": [
    "# rough equilibrium temperature\n",
    "\n",
    "eq_threshold = 1*10**-2\n",
    "def eq_temp_year(Result, years, eq_threshold):\n",
    "    diff = np.absolute(np.diff(Result))\n",
    "    for i in range(len(diff)):\n",
    "        if diff[i] < eq_threshold:\n",
    "            eq_index = i + 1\n",
    "            eq_temp = Result[eq_index]\n",
    "            eq_year = years[eq_index]\n",
    "            return eq_temp, eq_year\n",
    "\n",
    "eq_result1 = eq_temp_year(Result1, years, eq_threshold)\n",
    "eq_result2 = eq_temp_year(Result2, years, eq_threshold)\n",
    "print(eq_result1)\n",
    "print(eq_result2)\n"
   ]
  },
  {
   "cell_type": "code",
   "execution_count": null,
   "id": "b70651db-9cae-4bf9-b81e-1e1b67639f8c",
   "metadata": {},
   "outputs": [],
   "source": [
    "# vis\n",
    "\n",
    "fig, ax = plt.subplots(figsize=(8, 10))\n",
    "ax.set_xlabel('Years')  \n",
    "ax.set_ylabel('Temperature')  \n",
    "ax.set_title(\"Equilibrium Temperature and Year\") \n",
    "ax.plot(Result1, color = 'green', label = 'tau = 0.45')\n",
    "ax.plot(Result2, color = 'blue', label = 'tau = 0.50')\n",
    "ax.axhline(eq_result1[0], linestyle='--', color = 'black', label = 'tau 0.45 equilibrium temp')\n",
    "ax.axvline(eq_result1[1], linestyle='--', color = 'black', label = 'tau 0.45 equilibrium year')\n",
    "ax.axhline(eq_result2[0], linestyle='--', color = 'red', label = 'tau 0.5 equilibrium temp')\n",
    "ax.axvline(eq_result2[1], linestyle='--', color = 'red', label = 'tau 0.5 equilibrium year')\n",
    "ax.legend() \n"
   ]
  },
  {
   "cell_type": "code",
   "execution_count": null,
   "id": "f75c9d94-d9e8-43fa-9ae0-0d07e1da134e",
   "metadata": {},
   "outputs": [],
   "source": []
  }
 ],
 "metadata": {
  "kernelspec": {
   "display_name": "Python 3 (ipykernel)",
   "language": "python",
   "name": "python3"
  },
  "language_info": {
   "codemirror_mode": {
    "name": "ipython",
    "version": 3
   },
   "file_extension": ".py",
   "mimetype": "text/x-python",
   "name": "python",
   "nbconvert_exporter": "python",
   "pygments_lexer": "ipython3",
   "version": "3.12.4"
  }
 },
 "nbformat": 4,
 "nbformat_minor": 5
}
