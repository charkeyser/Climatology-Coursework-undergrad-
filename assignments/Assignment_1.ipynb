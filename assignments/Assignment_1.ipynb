{
 "cells": [
  {
   "cell_type": "code",
   "execution_count": null,
   "id": "020d3786-eb0f-403a-9c81-0e1297dc0d20",
   "metadata": {},
   "outputs": [],
   "source": [
    "# Scenario 1: If the atmosphere warmed up by 5 deg. C, would the atmospheric pressure at 8 km above sea level increase or decrease, and by approximately how much?\n",
    "# Scenario 2: Let's imagine we are back to the Little Ice Age, and the Earth was about 2 deg. C colder, by approximately how much does the atmospheric pressure decrease or increase at 9 km height?\n",
    "\n",
    "import numpy as np\n",
    "import matplotlib.pyplot as plt"
   ]
  },
  {
   "cell_type": "code",
   "execution_count": null,
   "id": "be10d819-7af8-4f80-923d-f4b5a737b488",
   "metadata": {},
   "outputs": [],
   "source": [
    "T1 = np.array([15, 20]) #C (tempreatures for scenario 1)\n",
    "T2 = np.array([15, 13]) #C (teps for scenario 2)\n",
    "Z1 = 8000 #m (height)\n",
    "Z2 = 9000 #m\n",
    "Ps = 101325 #Pa (standard pressure at 0 ft ASL)\n",
    "\n",
    "def scale_height(T):\n",
    "    R = 287 #J/kg*K (universal gas constant)\n",
    "    g = 9.81 #m/s**2\n",
    "    H = R*(T+273.15)/g\n",
    "    return H\n",
    "\n",
    "def pressure(T, Z, H, Ps, opt_unit):\n",
    "    P = Ps*np.exp(-Z/H)\n",
    "    if opt_unit == True:\n",
    "        return print(f\"{P} Paschals\")\n",
    "    else:\n",
    "        return P"
   ]
  },
  {
   "cell_type": "code",
   "execution_count": null,
   "id": "967c9418-b063-4cae-9981-51f0c6edfc1e",
   "metadata": {},
   "outputs": [],
   "source": [
    "#loops \n",
    "P_S1 = np.zeros(2)\n",
    "for i in range(len(T1)):\n",
    "    Hi = scale_height(T1[i])\n",
    "    P_S1[i] = pressure(T1[i], Z1, Hi, Ps, False)\n",
    "\n",
    "P_S2 = np.zeros(2)\n",
    "for i in range(len(T2)):\n",
    "    Hi = scale_height(T2[i])\n",
    "    P_S2[i] = pressure(T2[i], Z2, Hi, Ps, False)\n",
    "\n",
    "print (f\"Scenario 1 pressures:{P_S1}\")\n",
    "print(f\"Scenario 2 pressures:{P_S2}\")"
   ]
  },
  {
   "cell_type": "code",
   "execution_count": null,
   "id": "45f68ac2-85b5-4656-aeee-c56a1bfdf5a1",
   "metadata": {},
   "outputs": [],
   "source": [
    "# difference\n",
    "\n",
    "S1_deltaP = 39866.48703291-39226.40365271\n",
    "S2_deltaP = 34579.64914065-34838.64281345\n",
    "\n",
    "print(f\"Scenario 1 pressure change = {S1_deltaP} Paschals\")\n",
    "print(f\"Scenario 2 pressure change = {S2_deltaP} Paschals\")"
   ]
  },
  {
   "cell_type": "code",
   "execution_count": null,
   "id": "6e38c64d-c1c5-4708-b970-dca88948e269",
   "metadata": {},
   "outputs": [],
   "source": [
    "#test block for difference function\n",
    "# numpy.diff(<a>, n=<1>, axis=<-1>, prepend=<no value>, append=<no value>)\n",
    "#INPUTS\n",
    "#a (array_like)\n",
    "#    Input array\n",
    "#n (int, optional)\n",
    "#   The number of times values are differenced. If zero, the input is returned as-is.\n",
    "#axis (int, optional)\n",
    "#   The axis along which the difference is taken, default is the last axis.\n",
    "# prepend, append (array_like, optional)\n",
    "#   Values to prepend or append to a along axis prior to performing the difference. \n",
    "#   Scalar values are expanded to arrays with length 1 in the direction of axis and the shape of the input array in along all other axes. \n",
    "#   Otherwise the dimension and shape must match a except along axis.\n",
    "#OUTPUTS\n",
    "#diff (ndarray)\n",
    "#   The n-th differences. The shape of the output is the same as a except along axis where the dimension is smaller by n. \n",
    "#   The type of the output is the same as the type of the difference between any two elements of a. This is the same as the type of a in most cases. \n",
    "#   A notable exception is datetime64, which results in a timedelta64 output array.\n",
    "#####################################################################################\n",
    "\n",
    "def Pdiff(P_S, opt_unit):\n",
    "    a = np.asarray(P_S, dtype = float)\n",
    "    n = 1 # was n = np.zeros_like(P_S) but np.diff is expecting int \n",
    "                           # n = 1 should default to out len = l - 1???\n",
    "                           # because of prepend (pad) being 1 (could also be append) the output = l\n",
    "                           # if n = 2 out len = 2 prepend, 2 append, or split 1&1 from what\n",
    "    axis = -1 #-1 and 0 work for 1-D array/scalar?\n",
    "    pad = np.take(a, [0], axis=axis)  #padding output to match input\n",
    "    Pdiff = np.diff(a, n, axis, prepend = pad)\n",
    "    if opt_unit == True:\n",
    "        return print(f\"Pressure change ={Pdiff[1:]} Pa\")\n",
    "    else:\n",
    "        return Pdiff\n",
    "\n",
    "Pdiff_1 = Pdiff(P_S1, True)\n",
    "\n",
    "Pdiff_2 = Pdiff(P_S2, True)\n",
    "\n",
    "\n",
    "                     \n",
    "\n",
    "\n",
    "### IT WORKS :) ###"
   ]
  },
  {
   "cell_type": "code",
   "execution_count": null,
   "id": "2fc3dbd7-5ede-4377-93d1-11ebac494254",
   "metadata": {},
   "outputs": [],
   "source": []
  },
  {
   "cell_type": "code",
   "execution_count": null,
   "id": "064e575a-41ce-4777-be97-dd20bcb967ac",
   "metadata": {},
   "outputs": [],
   "source": []
  },
  {
   "cell_type": "code",
   "execution_count": null,
   "id": "1789ba90-3283-4073-a9c7-8dba4d5ff6bd",
   "metadata": {},
   "outputs": [],
   "source": []
  },
  {
   "cell_type": "code",
   "execution_count": null,
   "id": "4663edfd-e3ff-439e-bc7d-c57cd00c71f8",
   "metadata": {},
   "outputs": [],
   "source": []
  },
  {
   "cell_type": "code",
   "execution_count": null,
   "id": "506681ea-b05e-48e1-a545-5c1343b61be9",
   "metadata": {},
   "outputs": [],
   "source": []
  },
  {
   "cell_type": "code",
   "execution_count": null,
   "id": "b4df695e-b8ef-40c5-9c05-432f6a07ec7d",
   "metadata": {},
   "outputs": [],
   "source": []
  },
  {
   "cell_type": "code",
   "execution_count": null,
   "id": "d883a8e0-28c5-4e42-a3a8-d5fa8a9751f6",
   "metadata": {},
   "outputs": [],
   "source": []
  },
  {
   "cell_type": "code",
   "execution_count": null,
   "id": "eab30b7a-0e0b-4a9a-876e-10e107b4f1ec",
   "metadata": {},
   "outputs": [],
   "source": []
  },
  {
   "cell_type": "code",
   "execution_count": null,
   "id": "f6f9016a-d8c2-4d9f-aefc-3569d34b1532",
   "metadata": {},
   "outputs": [],
   "source": []
  },
  {
   "cell_type": "code",
   "execution_count": null,
   "id": "5e6068ef-a861-4e0d-9426-d25bf98c687f",
   "metadata": {},
   "outputs": [],
   "source": []
  },
  {
   "cell_type": "code",
   "execution_count": null,
   "id": "98aba301-3a50-4790-a24a-8191782735e7",
   "metadata": {},
   "outputs": [],
   "source": []
  },
  {
   "cell_type": "code",
   "execution_count": null,
   "id": "13d4479c-3ca6-4f01-a03f-21412743dce2",
   "metadata": {},
   "outputs": [],
   "source": []
  },
  {
   "cell_type": "code",
   "execution_count": null,
   "id": "0460c4c6-cdc5-4f7f-bd5a-0a9d28e5a829",
   "metadata": {},
   "outputs": [],
   "source": []
  },
  {
   "cell_type": "code",
   "execution_count": null,
   "id": "4d3f0873-4b31-4c7a-9ce8-8d756ca58054",
   "metadata": {},
   "outputs": [],
   "source": []
  },
  {
   "cell_type": "code",
   "execution_count": null,
   "id": "0c151067-6541-4f34-9f34-2a99e63ce487",
   "metadata": {},
   "outputs": [],
   "source": []
  },
  {
   "cell_type": "code",
   "execution_count": null,
   "id": "8656aea1-818f-48c8-9320-03ae1d4da07c",
   "metadata": {},
   "outputs": [],
   "source": []
  },
  {
   "cell_type": "code",
   "execution_count": null,
   "id": "88c8ae51-a955-44aa-bc94-e9aa081032df",
   "metadata": {},
   "outputs": [],
   "source": []
  },
  {
   "cell_type": "code",
   "execution_count": null,
   "id": "56daa603-a10d-444e-b2e8-1477d7f4aa23",
   "metadata": {},
   "outputs": [],
   "source": []
  },
  {
   "cell_type": "code",
   "execution_count": null,
   "id": "c29d7c39-87a5-4ccc-9721-1d296c67971e",
   "metadata": {},
   "outputs": [],
   "source": []
  },
  {
   "cell_type": "code",
   "execution_count": null,
   "id": "efac64e0-dfe4-4bd6-8c40-a0fd0603b24d",
   "metadata": {},
   "outputs": [],
   "source": []
  },
  {
   "cell_type": "code",
   "execution_count": null,
   "id": "96305a05-27cf-4c84-a653-6acf5ea152c9",
   "metadata": {},
   "outputs": [],
   "source": []
  },
  {
   "cell_type": "code",
   "execution_count": null,
   "id": "3e602c0f-67f4-4ba9-870c-9ed996184f5e",
   "metadata": {},
   "outputs": [],
   "source": []
  },
  {
   "cell_type": "code",
   "execution_count": null,
   "id": "cef5920f-014c-48e0-bc6c-7199a7b67e1c",
   "metadata": {},
   "outputs": [],
   "source": []
  },
  {
   "cell_type": "code",
   "execution_count": null,
   "id": "c383a2b8-2856-4dfc-a8bd-6fadb1542578",
   "metadata": {},
   "outputs": [],
   "source": []
  },
  {
   "cell_type": "code",
   "execution_count": null,
   "id": "c8918271-3804-4a4e-a1d2-38d3a0079a0b",
   "metadata": {},
   "outputs": [],
   "source": []
  },
  {
   "cell_type": "code",
   "execution_count": null,
   "id": "22bc5da6-dc3d-421a-86c0-f3b56f5e2485",
   "metadata": {},
   "outputs": [],
   "source": []
  },
  {
   "cell_type": "code",
   "execution_count": null,
   "id": "a8bb7e08-c497-48b7-8574-abf8d194a3e5",
   "metadata": {},
   "outputs": [],
   "source": []
  },
  {
   "cell_type": "code",
   "execution_count": null,
   "id": "e6a35eb9-b4cc-4c59-81f5-d4fcbf565aa7",
   "metadata": {},
   "outputs": [],
   "source": []
  },
  {
   "cell_type": "code",
   "execution_count": null,
   "id": "37bcb6a0-9555-4fe6-b92d-5b31693584da",
   "metadata": {},
   "outputs": [],
   "source": []
  },
  {
   "cell_type": "code",
   "execution_count": null,
   "id": "1dfe3dbf-0999-4034-a1ec-96010366f45b",
   "metadata": {},
   "outputs": [],
   "source": [
    "Pdiff1 = np.diff(P_S1)\n",
    "print(f\" Scenario 1 change ={Pdiff1} Pa\")\n",
    "\n",
    "Pdiff2 = np.diff(P_S2)\n",
    "print(f\" Scenario 2 change ={Pdiff2} Pa\")"
   ]
  }
 ],
 "metadata": {
  "kernelspec": {
   "display_name": "Python 3 (ipykernel)",
   "language": "python",
   "name": "python3"
  },
  "language_info": {
   "codemirror_mode": {
    "name": "ipython",
    "version": 3
   },
   "file_extension": ".py",
   "mimetype": "text/x-python",
   "name": "python",
   "nbconvert_exporter": "python",
   "pygments_lexer": "ipython3",
   "version": "3.12.4"
  }
 },
 "nbformat": 4,
 "nbformat_minor": 5
}
