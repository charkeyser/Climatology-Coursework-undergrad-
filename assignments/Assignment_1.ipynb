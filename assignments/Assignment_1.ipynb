{
 "cells": [
  {
   "cell_type": "code",
   "execution_count": null,
   "id": "020d3786-eb0f-403a-9c81-0e1297dc0d20",
   "metadata": {},
   "outputs": [],
   "source": [
    "# Scenario 1: If the atmosphere warmed up by 5 deg. C, would the atmospheric pressure at 8 km above sea level increase or decrease, and by approximately how much?\n",
    "# Scenario 2: Let's imagine we are back to the Little Ice Age, and the Earth was about 2 deg. C colder, by approximately how much does the atmospheric pressure decrease or increase at 9 km height?\n",
    "\n",
    "import numpy as np\n",
    "import matplotlib.pyplot as plt"
   ]
  },
  {
   "cell_type": "code",
   "execution_count": null,
   "id": "be10d819-7af8-4f80-923d-f4b5a737b488",
   "metadata": {},
   "outputs": [],
   "source": [
    "T1 = np.array([15, 20]) #C (tempreatures for scenario 1)\n",
    "T2 = np.array([15, 13]) #C (teps for scenario 2)\n",
    "Z1 = 8000 #m (height)\n",
    "Z2 = 9000 #m\n",
    "Ps = 101325 #Pa (standard pressure at 0 ft ASL)\n",
    "\n",
    "def scale_height(T):\n",
    "    R = 287 #J/kg*K (universal gas constant, assuming dry air)\n",
    "    g = 9.81 #m/s**2\n",
    "    H = R*(T+273.15)/g\n",
    "    return H\n",
    "\n",
    "def pressure(T, Z, H, Ps, opt_unit):\n",
    "    P = Ps*np.exp(-Z/H)\n",
    "    if opt_unit == True:\n",
    "        return print(f\"{P} Paschals\")\n",
    "    else:\n",
    "        return P"
   ]
  },
  {
   "cell_type": "code",
   "execution_count": null,
   "id": "967c9418-b063-4cae-9981-51f0c6edfc1e",
   "metadata": {},
   "outputs": [],
   "source": [
    "#loops \n",
    "P_S1 = np.zeros(2)\n",
    "for i in range(len(T1)):\n",
    "    Hi = scale_height(T1[i])\n",
    "    P_S1[i] = pressure(T1[i], Z1, Hi, Ps, False)\n",
    "\n",
    "P_S2 = np.zeros(2)\n",
    "for i in range(len(T2)):\n",
    "    Hi = scale_height(T2[i])\n",
    "    P_S2[i] = pressure(T2[i], Z2, Hi, Ps, False)\n",
    "\n",
    "print (f\"Scenario 1 pressures:{P_S1}\")\n",
    "print(f\"Scenario 2 pressures:{P_S2}\")"
   ]
  },
  {
   "cell_type": "code",
   "execution_count": null,
   "id": "45f68ac2-85b5-4656-aeee-c56a1bfdf5a1",
   "metadata": {},
   "outputs": [],
   "source": [
    "# difference, no longer used. originally meant to check output of following block\n",
    "\n",
    "S1_deltaP = 39866.48703291-39226.40365271\n",
    "S2_deltaP = 34579.64914065-34838.64281345\n",
    "\n",
    "print(f\"Scenario 1 pressure change = {S1_deltaP} Paschals\")\n",
    "print(f\"Scenario 2 pressure change = {S2_deltaP} Paschals\")"
   ]
  },
  {
   "cell_type": "code",
   "execution_count": null,
   "id": "6e38c64d-c1c5-4708-b970-dca88948e269",
   "metadata": {},
   "outputs": [],
   "source": [
    "#test block for difference function, from NumPy:\n",
    "# numpy.diff(<a>, n=<1>, axis=<-1>, prepend=<no value>, append=<no value>)\n",
    "#INPUTS\n",
    "#a (array_like)\n",
    "#    Input array\n",
    "#n (int, optional)\n",
    "#   The number of times values are differenced. If zero, the input is returned as-is.\n",
    "#axis (int, optional)\n",
    "#   The axis along which the difference is taken, default is the last axis.\n",
    "# prepend, append (array_like, optional)\n",
    "#   Values to prepend or append to a along axis prior to performing the difference. \n",
    "#   Scalar values are expanded to arrays with length 1 in the direction of axis and the shape of the input array in along all other axes. \n",
    "#   Otherwise the dimension and shape must match a except along axis.\n",
    "#OUTPUTS\n",
    "#diff (ndarray)\n",
    "#   The n-th differences. The shape of the output is the same as a except along axis where the dimension is smaller by n. \n",
    "#   The type of the output is the same as the type of the difference between any two elements of a. This is the same as the type of a in most cases. \n",
    "#   A notable exception is datetime64, which results in a timedelta64 output array.\n",
    "#####################################################################################\n",
    "\n",
    "def Pdiff(P_S, opt_unit):\n",
    "    a = np.asarray(P_S, dtype = float)\n",
    "    n = 1 # was n = np.zeros_like(P_S) but np.diff is expecting int \n",
    "                           # n = 1 should default to out len = l - 1???\n",
    "                           # because of prepend (pad) being 1 (could also be append) the output = l\n",
    "                           # if n = 2 out len = 2 prepend, 2 append, or split 1&1 from what\n",
    "    axis = -1 #-1 and 0 work for 1-D array/scalar?\n",
    "    pad = np.take(a, [0], axis=axis)  #padding output to match input\n",
    "    Pdiff = np.diff(a, n, axis, prepend = pad)\n",
    "    if opt_unit == True:\n",
    "        return print(f\"Pressure change ={Pdiff[1:]} Pa\")\n",
    "    else:\n",
    "        return Pdiff\n",
    "\n",
    "Pdiff_1 = Pdiff(P_S1, True)\n",
    "\n",
    "Pdiff_2 = Pdiff(P_S2, True)\n",
    "\n",
    "\n",
    "                     \n",
    "\n",
    "\n",
    "### IT WORKS :) ###"
   ]
  },
  {
   "cell_type": "code",
   "execution_count": null,
   "id": "1dfe3dbf-0999-4034-a1ec-96010366f45b",
   "metadata": {},
   "outputs": [],
   "source": [
    "# redundant, see block above\n",
    "#Pdiff1 = np.diff(P_S1)\n",
    "#print(f\" Scenario 1 change ={Pdiff1} Pa\")\n",
    "\n",
    "#Pdiff2 = np.diff(P_S2)\n",
    "#print(f\" Scenario 2 change ={Pdiff2} Pa\")"
   ]
  },
  {
   "cell_type": "code",
   "execution_count": null,
   "id": "56396cd3-1e57-4b41-87d2-d25d88eddcaa",
   "metadata": {},
   "outputs": [],
   "source": []
  }
 ],
 "metadata": {
  "kernelspec": {
   "display_name": "Python 3 (ipykernel)",
   "language": "python",
   "name": "python3"
  },
  "language_info": {
   "codemirror_mode": {
    "name": "ipython",
    "version": 3
   },
   "file_extension": ".py",
   "mimetype": "text/x-python",
   "name": "python",
   "nbconvert_exporter": "python",
   "pygments_lexer": "ipython3",
   "version": "3.12.4"
  }
 },
 "nbformat": 4,
 "nbformat_minor": 5
}
